{
 "cells": [
  {
   "cell_type": "code",
   "execution_count": 36,
   "id": "eb9dabc8-0ecf-4e70-9cbd-0cb17fff37ad",
   "metadata": {},
   "outputs": [],
   "source": [
    "#BIBLIOTEKI I OPCJE\n",
    "import pandas as pd\n",
    "import re\n",
    "import random\n",
    "import math\n",
    "import uuid\n",
    "import datetime\n",
    "import numpy as np\n",
    "from tabulate import tabulate\n",
    "\n",
    "import warnings\n",
    "\n",
    "warnings.filterwarnings('ignore')\n",
    "pd.set_option('display.max_colwidth', None)\n",
    "\n",
    "#TABELE\n",
    "# playerTable = pd.DataFrame(columns=['Name', 'Surname', 'City', 'Category']) #to provide player names\n",
    "playerTable = pd.read_csv('examplePlayerTable.csv')\n",
    "df = pd.read_csv('examplePlayerTable.csv')\n",
    "trickTable = pd.read_csv('trickTableJapan.csv')\n",
    "df = df.loc[df.index <= 112]\n",
    "#MODUŁY\n",
    "%run tableFunction.ipynb\n",
    "%run gameFunction.ipynb"
   ]
  },
  {
   "cell_type": "code",
   "execution_count": 37,
   "id": "632b2f81-7b82-4243-862a-c5b0aa11e88e",
   "metadata": {},
   "outputs": [
    {
     "data": {
      "text/plain": [
       "[[['Bolesława', 'Karliczka', 'Lublin', 'Beginner'],\n",
       "  ['January', 'Srokosz', 'Bydgoszcz', 'Advance'],\n",
       "  ['Helena', 'Bąk', 'Gdańsk', 'Advance'],\n",
       "  ['Marcel', 'Trznadelek', 'Poznań', 'Beginner'],\n",
       "  ['Kiliana', 'Kos', 'Szczecin', 'Advance'],\n",
       "  ['Natalia', 'Strzyżyk', 'Białystok', 'Beginner'],\n",
       "  ['Elwira', 'Kraska', 'Katowice', 'Advance'],\n",
       "  ['Lilianna', 'Kowalik', 'Karków', 'Advance'],\n",
       "  ['Hilary', 'Ostrygojad', 'Wrocław', 'Advance']],\n",
       " [['Manuel', 'Alka', 'Warszawa', 'Advance'],\n",
       "  ['Oskar', 'Cyranka', 'Warszawa', 'Beginner'],\n",
       "  ['Damian', 'Bekasik', 'Wrocław', 'Advance'],\n",
       "  ['Zoja', 'Rokitniczka', 'Łódź', 'Advance'],\n",
       "  ['Ewald', 'Uhla', 'Katowice', 'Advance'],\n",
       "  ['Elżbieta', 'Zięba', 'Szczecin', 'Advance'],\n",
       "  ['Włodzimierz', 'Krakwa', 'Warszawa', 'Advance'],\n",
       "  ['Kordian', 'Osetnik', 'Wrocław', 'Advance'],\n",
       "  ['Hipolit', 'Batalion', 'Łódź', 'Beginner']],\n",
       " [['Bożena', 'Syczek', 'Lublin', 'Advance'],\n",
       "  ['Hieronim', 'Remiz', 'Lublin', 'Beginner'],\n",
       "  ['Eryk', 'Pardwa', 'Gdańsk', 'Advance'],\n",
       "  ['Natasza', 'Kawka', 'Bydgoszcz', 'Advance'],\n",
       "  ['Tęgomir', 'Słowik', 'Lublin', 'Advance'],\n",
       "  ['Benon', 'Bażant', 'Wrocław', 'Beginner'],\n",
       "  ['Andrzej', 'Kobuz', 'Katowice', 'Beginner'],\n",
       "  ['Władysław', 'Turkawka', 'Białystok', 'Advance'],\n",
       "  ['Bernard', 'Drzemlik', 'Poznań', 'Beginner']],\n",
       " [['Daniel', 'Gadożer', 'Karków', 'Beginner'],\n",
       "  ['Zenon', 'Edredon', 'Szczecin', 'Beginner'],\n",
       "  ['Romuald', 'Kobczyk', 'Warszawa', 'Advance'],\n",
       "  ['Bona', 'Kląskawka', 'Gdańsk', 'Advance'],\n",
       "  ['Ziemowit', 'Strumieniówka', 'Łódź', 'Advance'],\n",
       "  ['Tamara', 'Raróg', 'Poznań', 'Advance'],\n",
       "  ['Jakub', 'Turkan', 'Gdańsk', 'Advance'],\n",
       "  ['Onufry', 'Droździk', 'Gdańsk', 'Advance'],\n",
       "  ['Konstantyn', 'Puszczyk', 'Białystok', 'Advance']],\n",
       " [['Tomasz', 'Raniuszek', 'Karków', 'Beginner'],\n",
       "  ['Manfred', 'Pustynnik', 'Szczecin', 'Advance'],\n",
       "  ['Tatiana', 'Sterniczka', 'Karków', 'Advance'],\n",
       "  ['Jan', 'Zielonka', 'Poznań', 'Beginner'],\n",
       "  ['Zofia', 'Dudek', 'Karków', 'Advance'],\n",
       "  ['Linda', 'Cierniówka', 'Szczecin', 'Advance'],\n",
       "  ['Kornel', 'Bączek', 'Białystok', 'Advance'],\n",
       "  ['Omar', 'Strepet', 'Warszawa', 'Advance'],\n",
       "  ['Damazy', 'Czajka', 'Karków', 'Beginner']],\n",
       " [['Eugeniusz', 'Dubelt', 'Gdańsk', 'Advance'],\n",
       "  ['Anatol', 'Fulmar', 'Łódź', 'Beginner'],\n",
       "  ['Zosia', 'Dzwoniec', 'Szczecin', 'Beginner'],\n",
       "  ['Roman', 'Cietrzew', 'Bydgoszcz', 'Advance'],\n",
       "  ['Kinga', 'Bocian', 'Łódź', 'Advance'],\n",
       "  ['Hanna', 'Krętogłów', 'Poznań', 'Advance'],\n",
       "  ['Tobiasz', 'Kazarka', 'Wrocław', 'Beginner']]]"
      ]
     },
     "execution_count": 37,
     "metadata": {},
     "output_type": "execute_result"
    }
   ],
   "source": []
  },
  {
   "cell_type": "markdown",
   "id": "5c073632-b5d6-4674-b25b-064629e40f22",
   "metadata": {},
   "source": [
    "\n"
   ]
  },
  {
   "cell_type": "code",
   "execution_count": null,
   "id": "7171d68b-e467-4b24-beb7-0b1f7262d4d1",
   "metadata": {},
   "outputs": [],
   "source": []
  }
 ],
 "metadata": {
  "kernelspec": {
   "display_name": "Python 3 (ipykernel)",
   "language": "python",
   "name": "python3"
  },
  "language_info": {
   "codemirror_mode": {
    "name": "ipython",
    "version": 3
   },
   "file_extension": ".py",
   "mimetype": "text/x-python",
   "name": "python",
   "nbconvert_exporter": "python",
   "pygments_lexer": "ipython3",
   "version": "3.10.0"
  }
 },
 "nbformat": 4,
 "nbformat_minor": 5
}
