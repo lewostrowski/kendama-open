{
 "cells": [
  {
   "cell_type": "code",
   "execution_count": null,
   "id": "263a066e-f3fe-4ff6-b3cb-2136a7195f7a",
   "metadata": {},
   "outputs": [],
   "source": [
    "def tableCreate(save=False, default=True):\n",
    "    columnsNameInput = ['start']\n",
    "    \n",
    "    if default == False:\n",
    "        print('Create new table. Type \"stop\" to finish.')\n",
    "        while columnsNameInput[-1] != 'stop':\n",
    "            columnName = input('Provide column name: ')\n",
    "            columnsNameInput.append(columnName)\n",
    "        if columnsNameInput[-1] == 'stop': \n",
    "            columnsNameInput.pop(-1)\n",
    "            columnsNameInput.pop(0)\n",
    "    elif default == True: \n",
    "        columnsNameInput.append('Name')\n",
    "        columnsNameInput.append('Surname')\n",
    "        columnsNameInput.pop(0)\n",
    "        \n",
    "    newTable = pd.DataFrame(columns=columnsNameInput)\n",
    "    return newTable"
   ]
  },
  {
   "cell_type": "code",
   "execution_count": null,
   "id": "13204a7b-719a-4a7b-a35f-597033f42925",
   "metadata": {},
   "outputs": [],
   "source": []
  },
  {
   "cell_type": "code",
   "execution_count": null,
   "id": "d1675ec8-197b-48f0-9e39-e66701b7b1fc",
   "metadata": {},
   "outputs": [],
   "source": [
    "def tableFilter(tableName, columnsName=[], rowData=[]):\n",
    "    if len(columnsName) > 0: df = tableName[columnsName]\n",
    "    else: df = tableName\n",
    "    \n",
    "    if len(rowData) > 0:\n",
    "        df = pd.DataFrame(columns=tableName.columns)\n",
    "        for cN in tableName.columns:\n",
    "            for rD in rowData:\n",
    "                row = tableName.loc[tableName[cN] == rD]\n",
    "                if len(row) > 0: df = df.append(row)\n",
    "    return df"
   ]
  },
  {
   "cell_type": "code",
   "execution_count": null,
   "id": "3b4f9870-6ed3-4b69-9dae-e27292d4ef3c",
   "metadata": {},
   "outputs": [],
   "source": [
    "def tableAddPlayer(tableName):\n",
    "    userInput = {}\n",
    "    for columnName in tableName.columns:\n",
    "        uInput = input(f'{columnName}: ')\n",
    "        userInput.update({columnName:uInput})\n",
    "        \n",
    "    tableName = tableName.append(userInput, ignore_index=True)\n",
    "    return tableName"
   ]
  },
  {
   "cell_type": "code",
   "execution_count": null,
   "id": "5cd51360-8410-47b8-ba9c-b8b640b8bab6",
   "metadata": {},
   "outputs": [],
   "source": [
    "def tableRemovePlayer(tableName, playerIndex):\n",
    "    tableName = tableName.loc[tableName.index != playerIndex]\n",
    "    return tableName"
   ]
  },
  {
   "cell_type": "code",
   "execution_count": null,
   "id": "bbeeae42-eba1-4e9d-81e7-e96b2b036f10",
   "metadata": {},
   "outputs": [],
   "source": [
    "def tableEditPlayer(tableName, playerIndex):\n",
    "    columnNameInput = input(f'Column name: ')\n",
    "    if columnNameInput in tableName.columns: newValue = input('New value: ')\n",
    "    else: return print('Wrong column name')\n",
    "    tableName.loc[tableName.index == playerIndex, columnNameInput] = newValue\n",
    "    return tableName"
   ]
  },
  {
   "cell_type": "code",
   "execution_count": null,
   "id": "e9ee9e05-924a-4ec0-90ed-26d752878c11",
   "metadata": {},
   "outputs": [],
   "source": []
  }
 ],
 "metadata": {
  "kernelspec": {
   "display_name": "Python 3 (ipykernel)",
   "language": "python",
   "name": "python3"
  },
  "language_info": {
   "codemirror_mode": {
    "name": "ipython",
    "version": 3
   },
   "file_extension": ".py",
   "mimetype": "text/x-python",
   "name": "python",
   "nbconvert_exporter": "python",
   "pygments_lexer": "ipython3",
   "version": "3.10.0"
  }
 },
 "nbformat": 4,
 "nbformat_minor": 5
}
